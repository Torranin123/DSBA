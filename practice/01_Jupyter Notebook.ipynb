{
 "cells": [
  {
   "cell_type": "markdown",
   "metadata": {},
   "source": [
    "# Jupyter notebooks\n",
    "\n",
    "\n",
    "Term 1 2020 - Instructor: Teerapong Leelanupab\n",
    "\n",
    "Teaching Assistant: \n",
    "1. Tiwipab Meephruek (Mil)\n",
    "2. Jiratkul Wangsiripaisarn (Brooklyn)\n",
    "3. Hataichanok Sakkara (Pond)\n",
    "\n",
    "***"
   ]
  },
  {
   "cell_type": "markdown",
   "metadata": {},
   "source": [
    "# Jupyter notebooks\n",
    "\n",
    "\n",
    "Term 1 2020 - Instructor: Teerapong Leelanupab\n",
    "\n",
    "Teaching Assistant: \n",
    "1. Tiwipab Meephruek (Mil)\n",
    "2. Jiratkul Wangsiripaisarn (Brooklyn)\n",
    "3. Hataichanok Sakkara (Pond)\n",
    "\n",
    "***"
   ]
  },
  {
   "cell_type": "code",
   "execution_count": 3,
   "metadata": {},
   "outputs": [
    {
     "name": "stdout",
     "output_type": "stream",
     "text": [
      "12\n"
     ]
    }
   ],
   "source": [
    "x = 12\n",
    "print(x)"
   ]
  },
  {
   "cell_type": "code",
   "execution_count": 4,
   "metadata": {},
   "outputs": [
    {
     "name": "stdout",
     "output_type": "stream",
     "text": [
      "12\n"
     ]
    }
   ],
   "source": [
    "x = 12\n",
    "print(x)"
   ]
  },
  {
   "cell_type": "code",
   "execution_count": 17,
   "metadata": {},
   "outputs": [
    {
     "name": "stdout",
     "output_type": "stream",
     "text": [
      "-1\n"
     ]
    }
   ],
   "source": [
    "x = 1\n",
    "y = 2\n",
    "print(x-y)"
   ]
  },
  {
   "cell_type": "code",
   "execution_count": 16,
   "metadata": {
    "scrolled": true
   },
   "outputs": [
    {
     "name": "stdout",
     "output_type": "stream",
     "text": [
      "12\n"
     ]
    }
   ],
   "source": [
    "x = 12\n",
    "print(x)"
   ]
  },
  {
   "cell_type": "code",
   "execution_count": null,
   "metadata": {},
   "outputs": [],
   "source": []
  },
  {
   "cell_type": "code",
   "execution_count": null,
   "metadata": {},
   "outputs": [],
   "source": []
  },
  {
   "cell_type": "code",
   "execution_count": null,
   "metadata": {},
   "outputs": [],
   "source": []
  },
  {
   "cell_type": "markdown",
   "metadata": {},
   "source": [
    "## Python\n",
    "\n",
    "Python is a programming language that has been growing in popularity in recent years. There are many reasons for this, but it mostly comes down to Python being easy to learn and use as well as the fact that Python has a very active community that continually develops and improves amazing extensions to Python!\n",
    "\n",
    "Python has become one of the most frequently used languages in the world of data science due to the ability to almost instantly apply it to a large number of data science problems. When asking stakeholders in companies in different industries and of various sizes what language they would like their data scientists to know when coming in, Python is a consistently popular choice. If you are going to learn one language (something everyone should do!), Python would be a great choice.\n",
    "\n",
    "From this language, other languages, features and packages have been created: Jupyter, Pandas, Numpy, Matplotlib, and others that we will be using during this course. For more info please visit https://www.python.org/doc/\n"
   ]
  },
  {
   "cell_type": "markdown",
   "metadata": {
    "collapsed": true
   },
   "source": [
    "## Jupyter notebooks\n",
    "\n",
    "One extremely useful tool for modern data analytics is Jupyter, which incorporates \"Jupyter notebooks\" (formerly called ipython notebooks). We will use Jupyter notebooks for many of the labs and assignments in this course, \"<b>Data Science for Business</b>\".\n",
    "\n",
    "The IPython Notebook is now known as the Jupyter Notebook. It is an interactive computational environment, in which you can combine code execution, rich text, mathematics, plots and rich media. It is a web application that allows you to create and share documents that contain live code, equations, visualizations and explanatory text. Uses include: data cleaning and transformation, numerical simulation, statistical modeling, machine learning and much more.\n",
    "\n",
    "- Language: The Jupyter Notebook has support for over 40 programming languages, including those popular in Data Science such as Python and R.\n",
    "\n",
    "- Sharing: Notebooks can be shared with others using email, Dropbox, GitHub and the Jupyter Notebook Viewer.\n",
    "\n",
    "- Widgets (apps): Code can produce rich output such as images, videos, LaTeX, and JavaScript. Interactive widgets can be used to manipulate and visualize data in realtime.\n",
    "\n",
    "\n",
    "IPython notebooks are made up of cells, which have <b>two</b> fundamental types:\n",
    "1. **Markdown cells** (comments): contain text content for explaining our notebook.\n",
    "2. **Code cells** (commands): allow us to type and run Python code. \n",
    "\n",
    "To get started, review the lectures notes on how to start the IPython Notebook Server and create a new notebook in your web browser.\n",
    "\n",
    "You can edit a cell by double clicking on it. You can get it back to the display mode (run a cell) by hitting \"**Shift-Enter**\" or by pressing the \"Play\" (▶) button, and you can also stop it with the \"square\" ◼︎ . Basically, all the tasks for cells can be found in the tool bar.  Try it now!  Doubleclick this cell, then click the play button above. (Mine looks more like this: ▶| ) We'll explain what you just saw in a minute. \n",
    "\n",
    "\n",
    "For more details on the Jupyter Notebook, please see the Jupyter website http://jupyter.org/\n",
    "\n",
    "\n",
    "Steps to open a new notebook (you can open as many as you want!):\n",
    "\n",
    "\n",
    "![NewNotebook](images/new_notebook.png)\n",
    "\n",
    "\n",
    "\n",
    "[Note: Jupyter now uses Python 3 rather than Python 2.]\n",
    "\n",
    "This is how a new Ipython notebook looks:\n",
    "\n",
    "\n",
    "\n",
    "\n",
    "![NewNotebook](images/notebook.png)\n",
    "\n",
    "\n",
    "\n"
   ]
  },
  {
   "cell_type": "markdown",
   "metadata": {},
   "source": [
    "***\n",
    "\n",
    "## Markdown cells in a Jupyter notebook\n",
    "\n",
    "It can often be helpful to provide explanatory text in notebooks. [Markdown](http://daringfireball.net/projects/markdown/) is a lightweight type of markup language with plain text formatting syntax which can be rendered as HTML for making text look more fancy. While there is no formal definition of the Markdown language, IPython  supports a set of commands which are commonly used elsewhere (e.g. Github, Reddit).\n",
    "\n",
    "To write text in a cell, we chose the cell dropdown list in the toolbar and change it from \"Code\" to \"Markdown.\" Doubleclick on this cell to see the markdown version.  Run the cell to see the formatted version."
   ]
  },
  {
   "cell_type": "markdown",
   "metadata": {},
   "source": [
    "***\n",
    "\n",
    "### Paragraph\n",
    "\n",
    "**Paragraph**: Paragraphs in Markdown are just one or more lines of consecutive text followed by one or more blank lines."
   ]
  },
  {
   "cell_type": "markdown",
   "metadata": {},
   "source": [
    "This is a paragraph of text."
   ]
  },
  {
   "cell_type": "markdown",
   "metadata": {},
   "source": [
    "***\n",
    "\n",
    "### Title, subtitle, section, subsection, etc.\n",
    "\n",
    "Now, you can write and do text formatting:\n",
    "\n",
    "**Styling Text**: We can create a heading by adding one or more `#` Hashtag (number sign) symbols before the heading texts or titles. The number of `#`'s used will determine the size of the font."
   ]
  },
  {
   "cell_type": "markdown",
   "metadata": {},
   "source": [
    "- Hashtag (number sign) is useful \\# for titles\n",
    "\n",
    "# Heading 1\n",
    "## Heading 2\n",
    "### Heading 3\n",
    "#### Heading 4"
   ]
  },
  {
   "cell_type": "markdown",
   "metadata": {},
   "source": [
    "***\n",
    "\n",
    "### Highlight Text\n",
    "\n",
    "You can format text as *italic* or **bold** using one or two `*`'s respectively as well as  `\\_` as *italic*.\n",
    "\n",
    "- Simple \\*asterisk\\* or \\_underscores\\_ to emphasize things in *italic*: _example_.\n",
    "- Double **asterisks** to make things **bold**. "
   ]
  },
  {
   "cell_type": "markdown",
   "metadata": {},
   "source": [
    "This is normal text."
   ]
  },
  {
   "cell_type": "markdown",
   "metadata": {},
   "source": [
    "*This text will be in italics*"
   ]
  },
  {
   "cell_type": "markdown",
   "metadata": {},
   "source": [
    "_This text will be in italics_"
   ]
  },
  {
   "cell_type": "markdown",
   "metadata": {},
   "source": [
    "**And this text will be in bold**"
   ]
  },
  {
   "cell_type": "markdown",
   "metadata": {},
   "source": [
    "***\n",
    "\n",
    "### List\n",
    "\n",
    "**Unordered lists**: We can make an unordered (bulleted) list by prefixing lines with either the `*` or `-` character."
   ]
  },
  {
   "cell_type": "markdown",
   "metadata": {},
   "source": [
    "* My item\n",
    "* Another item\n",
    "* Yet another item"
   ]
  },
  {
   "cell_type": "markdown",
   "metadata": {},
   "source": [
    "**Ordered lists**: We can make an ordered (numbered) list by prefixing lines with a number."
   ]
  },
  {
   "cell_type": "markdown",
   "metadata": {},
   "source": [
    "1. My first item\n",
    "2. Next item\n",
    "3. Final item\n",
    "\n",
    "***"
   ]
  },
  {
   "cell_type": "markdown",
   "metadata": {},
   "source": [
    "### Escaping, special characters\n",
    "\n",
    "You can escape special characters in Markdown by using: \n",
    "- Backslash (\\\\) to get those special characters not to act special (like in the preceeding).\n",
    "\n",
    "***"
   ]
  },
  {
   "cell_type": "markdown",
   "metadata": {},
   "source": [
    "### Links and others\n",
    "\n",
    "- You can create a hyperlink by wrapping text in square brackets (`[ ]`) and then wrapping the URL link or link to an image in parentheses (`( )`).\n",
    "\n",
    "For example: go to [Teerapong's homepage](http://www.it.kmitl.ac.th/~teerapong)\n",
    "\n",
    "- Also, HTML code is allowed. Some resources can be found in [HTML w3schools](http://www.w3schools.com/html/html_examples.asp) <p style=\"color:red;\">This is text formatted with HTML.</p>\n",
    "\n",
    "- And you can write math with $\\LaTeX$ (latex is a typesetting language for the production of scientific documents https://www.latex-project.org/): You use latex in Jupyter notebook markdown cells by wrapping the latex code in dollar signs, $x = \\frac{-b \\pm \\sqrt{b^2 - 4ac}}{2a}$. If you don't know how to write a symbol, you can go to [Detexify](http://detexify.kirelabs.org/classify.html).\n",
    "\n",
    "***"
   ]
  },
  {
   "cell_type": "markdown",
   "metadata": {},
   "source": [
    "### Further Reading about Markdown\n",
    "\n",
    "If you are ever stuck because you don't know how to format some text, just Google **\"Markdown syntax\"**.\n",
    "\n",
    "Markdown Resources\n",
    "* [Guide to Markdown Basics](https://help.github.com/articles/markdown-basics/) from Github\n",
    "* [Original Markdown Syntax Specification](http://daringfireball.net/projects/markdown/syntax/) from John Gruber\n",
    "* [Markdown Cheat Sheet](http://nestacms.com/docs/creating-content/markdown-cheat-sheet) from Nesta CMS\n",
    "\n",
    "***"
   ]
  },
  {
   "cell_type": "markdown",
   "metadata": {},
   "source": [
    "## Code cells in a Jupyter notebook\n",
    "\n",
    "Now, let's take a look at a code cell (this is the default type of a Jupyter cell). In a code cell, we can type any Python commands, running them by clicking \"Play\" in the toolbar. When we \"play\" a cell, the code in it is executed and it returns whatever is the result of running a code. (Maybe an error!)  You can modify and re-run code cells multiple times in any order. Importantly note that code cells will always start with \"`In [ ]:`\". \n",
    "\n",
    "We build our ipython notebooks with successive code cells, often interspersed with notes, images, and so on.  Because of this it is important to think of your notebook as a whole, and not just the individual cells.\n",
    "\n",
    "When a code cell is executed, the code that it contains is sent to the ‘kernel‘ associated with the notebook (i.e. the Python engine running in the background). That is, some of the results of running a cell are \"remembered\" for subsequent cells, as long as the session continues running.  Usually the session keeps running as long as you don't stop your instance and you keep the notebook window open.  Sometimes when you get errors in running your cells, it's because something from a prior cell was forgotten for some reason.  If you look above under the dropdown menu Kernel above, you'll see that there are options for clearing your outputs, rerunning all the cells, etc.\n",
    "\n",
    "The results that are returned from this computation are then displayed in the notebook as the cell’s output. Note that some code will not have an output.\n",
    "\n",
    "For example, in the following cell, it will remember that the **_VARIABLE_** called \"x\" is  the sum of two given numbers.  Once you run that cell, variable \"x\" will be available for use in cells below. Please select it and press the ▶ button to run it.  Then select the following cell and run it."
   ]
  },
  {
   "cell_type": "code",
   "execution_count": null,
   "metadata": {},
   "outputs": [],
   "source": [
    "1 + 2   # output is the result"
   ]
  },
  {
   "cell_type": "code",
   "execution_count": null,
   "metadata": {},
   "outputs": [],
   "source": [
    "a = 25  # no output here"
   ]
  },
  {
   "cell_type": "code",
   "execution_count": null,
   "metadata": {},
   "outputs": [],
   "source": [
    "print(a)  # output is produce by the print function"
   ]
  },
  {
   "cell_type": "markdown",
   "metadata": {},
   "source": [
    "Try to run the next two cells back and forth, and change some things and then rerun them.\n",
    "\n",
    "_Note_: Instead of having to manually go and click the \"Play\" button every time, you can also run a cell with your keyboard (*much easier!*). Just press **Ctrl + Enter** or **Shift + Enter**. Experiment with both of those to see what the difference is. \n",
    "\n",
    "Alternatively, we can execute the code in the selected cell, together with creating a new cell under it by hitting \"**Alt + Enter**\". \n",
    "\n",
    "Again, since it's important, IPython notebooks flow from **top to bottom**. This means that if a cell relies on a variable or function that was created earlier in the notebook, you must run the prior cell to make that information available in future cells  (_we cannot just call \"x\" in other cell if we don't run this one before_)! Try restarting and clearing all outputs (from the Kernel menu above), and then just run that last cell.  You should get an error sayint that it doesn't know what \"x\" is.\n",
    "\n",
    "_Note_: The number in the \"In [#]:\" statement will always increase by one for every time you run a code cell -- even if it's an error or you rerun the same cell."
   ]
  },
  {
   "cell_type": "code",
   "execution_count": 18,
   "metadata": {},
   "outputs": [
    {
     "name": "stdout",
     "output_type": "stream",
     "text": [
      "The value of the 'x' variable is 10.\n"
     ]
    }
   ],
   "source": [
    "x = 5 + 5\n",
    "print (\"The value of the 'x' variable is \" + str(x) + \".\")"
   ]
  },
  {
   "cell_type": "code",
   "execution_count": 21,
   "metadata": {},
   "outputs": [
    {
     "name": "stdout",
     "output_type": "stream",
     "text": [
      "The value of the 'x' variable is *still* 10 down here.\n"
     ]
    }
   ],
   "source": [
    "print(\"The value of the 'x' variable is *still* \" + str(x) + \" down here.\")"
   ]
  },
  {
   "cell_type": "markdown",
   "metadata": {
    "collapsed": true
   },
   "source": [
    "***\n",
    "\n",
    "## Text files and scripts in Jupyter\n",
    "\n",
    "In addition to providing the notebook interactive programming environment, jupyter also provides a simple web-based text editor for creating text files or scripts.\n",
    "\n",
    "A script is a (often small) program that can be run as a \"command\". The program code is just text defining commands in certain programming language (e.g. Python). Often scripts cobble other commands into something useful that can be run again and again.\n",
    "\n",
    "As with other files on a computer, we identify the type of a script based on the extension of the file. Typically this extension identifies programming language that was used to develop the script, with each language having been assigned a conventional extension. For example, a file called \"script_example.py\" is a file with python commands, and a file called \"script_example.R\" is a file with the R language commands. Other extensions that might be encountered include: \".cpp\", \".scala\", \".php\", \".rb\", \".sh\".\n",
    "\n",
    "One creates a script by opening a text file (with an appropriate name and file extension), typing or pasting in some Python commands, and then saving it.\n",
    "\n",
    "Steps to open a new text file:\n",
    "\n",
    "![NewText](images/new_text.png)\n",
    "\n",
    "***\n",
    "\n",
    "This is how it looks:\n",
    "\n",
    "![Text](images/text.png)\n",
    "\n",
    "***\n",
    "\n",
    "Now we can change the language and write some examples of Python commands. \n",
    "\n",
    "We should change the extension of this file into a file.py to be able to run the file later.\n",
    "\n",
    "![Language](images/selectlanguage.png)\n",
    "![Language](images/script.png)\n",
    "\n",
    "\n",
    "Why do we need scripts? For one, we often want to create code that we will use frequently. Instead of writing all that code repeatedly in many notebooks, we can create a script and just call it. Often times, we want to write routines that are used by other, more complex systems, or by automated control software. You will see examples of how to do this later!\n",
    "\n",
    "Note that there are plenty of other more powerful text editors that provide other tools to boost productivity. Jupyter is convenient and easy to use, but if you've got a lot of code to write, you may consider [Atom](https://atom.io/) or [Sublime](https://www.sublimetext.com/2), both of which have a shallow learning curve. I (Teerapong) also prefer [PyCharm](https://www.jetbrains.com/pycharm/) to write Python scripts, which is also quite simple to use."
   ]
  },
  {
   "cell_type": "code",
   "execution_count": null,
   "metadata": {},
   "outputs": [],
   "source": []
  }
 ],
 "metadata": {
  "kernelspec": {
   "display_name": "Python 3",
   "language": "python",
   "name": "python3"
  },
  "language_info": {
   "codemirror_mode": {
    "name": "ipython",
    "version": 3
   },
   "file_extension": ".py",
   "mimetype": "text/x-python",
   "name": "python",
   "nbconvert_exporter": "python",
   "pygments_lexer": "ipython3",
   "version": "3.7.6"
  }
 },
 "nbformat": 4,
 "nbformat_minor": 1
}
