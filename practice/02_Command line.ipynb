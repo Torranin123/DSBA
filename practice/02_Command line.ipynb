{
 "cells": [
  {
   "cell_type": "markdown",
   "metadata": {},
   "source": [
    "# Command line (Only Unix-based Sytem)\n",
    "\n",
    "## You can optionally try this notebook in Google Colab\n",
    "\n",
    "Term 1 2020 - Instructor: Teerapong Leelanupab\n",
    "\n",
    "Teaching Assistant: \n",
    "1. Tiwipab Meephruek (Mil)\n",
    "2. Jiratkul Wangsiripaisarn (Brooklyn)\n",
    "3. Hataichanok Sakkara (Pond)\n",
    "\n",
    "***"
   ]
  },
  {
   "cell_type": "markdown",
   "metadata": {},
   "source": [
    "## 1. Command Line (Terminal)"
   ]
  },
  {
   "cell_type": "markdown",
   "metadata": {},
   "source": [
    "One of the most underappreciated tools for dealing with data is the command line of the unix/linux operating system. As you probably know, an operating system runs computer-based devices, including servers, laptops, smartphones, and many others, usually \"under the hood\".   \"Unix\" is the family of operating systems that runs the most devices.  If you have a Mac -- there's Unix under the hood.  An iPhone?  Unix under the hood. An Android phone? Guess what ... Unix under the hood.  And what are you running on now?  You guessed it. (But Windows machines?  Not Unix.)\n",
    "\n",
    "You can get under the hood of a Unix-based computer via the command line, often called the Terminal, and do all manner of crazy things.  We will study a few of them.\n",
    "\n",
    "We can access the command line of our cloud machines through the Jupyter Notebooks. You can use \"shell\" commands (such as the following) by prefixing the line with an exclamation point.\n",
    "\n",
    "(The \"shell\" is a technical name for the command line interface you see in a Terminal window.  There are actually different shells with different commands & syntax, even for the same operating system, but we won't delve into that in this class.  We will use the particular shell that Jupyterhub provides us by default.  The default is the \"bash\" shell, for those of you who care.)\n",
    "\n",
    "*Here we will give you a brief overview, and show some very useful commands.  If you're serious about dealing with data, and you don't have much command-line experience, you should get the book \"Data Science at the Command Line\" by Janssens. The first half of this (thin) book gives an excellent practical guide to dealing with data at the Unix command line.*\n"
   ]
  },
  {
   "cell_type": "markdown",
   "metadata": {},
   "source": [
    "***\n",
    "### 1.1. Interaction with files and folders\n",
    "\n",
    "We can navigate the folder structure in which we are working.  Folders are called \"directories\". You will typically use commands such as `ls` (list directory contents) and `cd` (change to another directory--but wait on that for a second). You can make a directory with `mkdir` or move (`mv`) and copy (`cp`) files. To delete a file you can `rm` (remove) it--careful, there's no getting it back.  To see the contents of a file you can `cat` it to the screen.  (Why `cat`?  That command actually concatenates multiple files and outputs the result.  If you give it one, then it just outputs that single file.  The default is to output it to the screen.  You'll see below that we can send command outputs elsewhere besides to the screen--like into another command!)\n",
    "\n",
    "Many commands have options you can set when running them. For example to get a listing of files as a vertical list with extra details you can pass the `-l` (list) flag, e.g. `ls -l`. During the normal course of using the command line, you will learn the most useful flags. If you want to see all possible options you can always read the `man` (manual) page for a command, e.g. `man ls`. When you are done reading the `man` page, you can exit by hitting `q` to quit.\n"
   ]
  },
  {
   "cell_type": "code",
   "execution_count": null,
   "metadata": {},
   "outputs": [],
   "source": [
    "!ls"
   ]
  },
  {
   "cell_type": "code",
   "execution_count": null,
   "metadata": {},
   "outputs": [],
   "source": [
    "!ls -l"
   ]
  },
  {
   "cell_type": "code",
   "execution_count": null,
   "metadata": {},
   "outputs": [],
   "source": [
    "!mkdir test"
   ]
  },
  {
   "cell_type": "code",
   "execution_count": null,
   "metadata": {},
   "outputs": [],
   "source": [
    "!ls"
   ]
  },
  {
   "cell_type": "markdown",
   "metadata": {},
   "source": [
    "Ok, so above we said to wait on changing directories for a second.  That's the cd command.  But watch this -- normally you'd think this would put you in the data directory:"
   ]
  },
  {
   "cell_type": "code",
   "execution_count": null,
   "metadata": {},
   "outputs": [],
   "source": [
    "!cd data"
   ]
  },
  {
   "cell_type": "code",
   "execution_count": null,
   "metadata": {},
   "outputs": [],
   "source": [
    "!ls"
   ]
  },
  {
   "cell_type": "markdown",
   "metadata": {},
   "source": [
    "NOTICE .. when you `ls` you see that you are still in the same directory you were below.  (See the same contents, including the data directory there.)\n",
    "\n",
    "Understanding why requires understanding how unix works, so we won't go into it here.  (Ok, the bottom line is that the way the Jupyter notebooks work, using the `!` command they essentially create a process, change the directory in that new process, and then exit the process, leaving you back where you were.)  The trick here is to use the `%` instead of `!`.  A minor pain to remember, but..."
   ]
  },
  {
   "cell_type": "code",
   "execution_count": null,
   "metadata": {},
   "outputs": [],
   "source": [
    "%cd data"
   ]
  },
  {
   "cell_type": "code",
   "execution_count": null,
   "metadata": {},
   "outputs": [],
   "source": [
    "!ls"
   ]
  },
  {
   "cell_type": "code",
   "execution_count": null,
   "metadata": {},
   "outputs": [],
   "source": [
    "!cp users.csv users2.csv"
   ]
  },
  {
   "cell_type": "code",
   "execution_count": null,
   "metadata": {},
   "outputs": [],
   "source": [
    "!ls"
   ]
  },
  {
   "cell_type": "markdown",
   "metadata": {},
   "source": [
    "To go back up a directory, we use `..` like this:"
   ]
  },
  {
   "cell_type": "code",
   "execution_count": null,
   "metadata": {},
   "outputs": [],
   "source": [
    "%cd .."
   ]
  },
  {
   "cell_type": "code",
   "execution_count": null,
   "metadata": {},
   "outputs": [],
   "source": [
    "!ls"
   ]
  },
  {
   "cell_type": "code",
   "execution_count": null,
   "metadata": {},
   "outputs": [],
   "source": [
    "!ls test/"
   ]
  },
  {
   "cell_type": "code",
   "execution_count": null,
   "metadata": {},
   "outputs": [],
   "source": [
    "# WARNING: THIS WILL DELETE THE TEST FOLDER AND THE FILE JUST CREATED\n",
    "!rm -rf test/\n",
    "!rm data/users2.csv"
   ]
  },
  {
   "cell_type": "code",
   "execution_count": null,
   "metadata": {},
   "outputs": [],
   "source": [
    "!ls"
   ]
  },
  {
   "cell_type": "markdown",
   "metadata": {},
   "source": [
    "***\n",
    "### 1.2. Data manipulation and exploration\n",
    "Virtually anything you want to do with a data file can be done at the command line. There are dozens of commands that can be put together to get almost any result! Let's try it.\n",
    "\n",
    "Lets take a look at the the file `data/users.csv`.\n",
    "\n",
    "Before we do anything, lets take a look at the first few lines of the file to get an idea of what's in it."
   ]
  },
  {
   "cell_type": "code",
   "execution_count": null,
   "metadata": {},
   "outputs": [],
   "source": [
    "!head data/users.csv"
   ]
  },
  {
   "cell_type": "markdown",
   "metadata": {},
   "source": [
    "By default, head will print the first 10 lines of its input to the standard output. The number of lines printed may be changed with a command line option. \n",
    "\n",
    "Maybe we want to see a few more lines of the file,"
   ]
  },
  {
   "cell_type": "code",
   "execution_count": null,
   "metadata": {},
   "outputs": [],
   "source": [
    "!head -n 15 data/users.csv"
   ]
  },
  {
   "cell_type": "markdown",
   "metadata": {},
   "source": [
    "How about the last few lines of the file?"
   ]
  },
  {
   "cell_type": "code",
   "execution_count": null,
   "metadata": {},
   "outputs": [],
   "source": [
    "!tail data/users.csv"
   ]
  },
  {
   "cell_type": "markdown",
   "metadata": {},
   "source": [
    "We can count how many lines are in the file by using `wc` (wordcount--which counts more than just words) with the `-l` flag to count lines,"
   ]
  },
  {
   "cell_type": "code",
   "execution_count": null,
   "metadata": {},
   "outputs": [],
   "source": [
    "!wc -l data/users.csv"
   ]
  },
  {
   "cell_type": "markdown",
   "metadata": {},
   "source": [
    "It looks like there are three columns in this file, lets take a look at the first one alone. Here, we can `cut` the field (`-f`) we want as long as we give the proper delimeter to tell what separates fields (`-d` defaults to tab)."
   ]
  },
  {
   "cell_type": "code",
   "execution_count": null,
   "metadata": {},
   "outputs": [],
   "source": [
    "!cut -f 1 -d ',' data/users.csv"
   ]
  },
  {
   "cell_type": "markdown",
   "metadata": {},
   "source": [
    "That's a lot of output. Let's combine the `cut` command with the `head` command by *piping* the output of one command into another command.  The vertical bar `|` is the *pipe*."
   ]
  },
  {
   "cell_type": "code",
   "execution_count": null,
   "metadata": {},
   "outputs": [],
   "source": [
    "!cut -f 1 -d',' data/users.csv | head"
   ]
  },
  {
   "cell_type": "markdown",
   "metadata": {},
   "source": [
    "We can use pipes (`|`) to string together many commands to create very powerful one-liners. For example, let's figure out the number of _unique_ users in the first column of the data file. We will get all the values from the first column, sort them, reduce that to only the unique values, and then count the number of lines in the result:"
   ]
  },
  {
   "cell_type": "code",
   "execution_count": null,
   "metadata": {},
   "outputs": [],
   "source": [
    "!cut -f 1 -d',' data/users.csv | sort | uniq | wc -l"
   ]
  },
  {
   "cell_type": "markdown",
   "metadata": {},
   "source": [
    "Or, we can get a list of the top-10 most frequently occuring users. If we give `uniq` the `-c` flag, it will return the number of times each value occurs. Since these counts are the first entry in each new line, we can tell `sort` to expect numbers (`-n`) and to give us the results in reverse (`-r`) order. Note, that when you want to use two or more single letter flags, you can just place them one after another."
   ]
  },
  {
   "cell_type": "code",
   "execution_count": null,
   "metadata": {},
   "outputs": [],
   "source": [
    "!cut -f1 -d',' data/users.csv | sort | uniq -c | sort -nr | head"
   ]
  },
  {
   "cell_type": "markdown",
   "metadata": {},
   "source": [
    "**Don't freak out at this point.**  Of course if you've never used this before, you're not expected to master all that at once.  The point here is to show how powerful a data manipulation tool the Unix command-line can be.  You can get resources (like the thin book mentioned above) to teach you and to use as a reference.  Using this notebook you should be able to use these particular commands in different ways by changing (and experimenting with) the flags."
   ]
  },
  {
   "cell_type": "markdown",
   "metadata": {},
   "source": [
    "After some exploration we decide we want to keep only part of our data and bring it into a new file. Let's find all the records that have *a negative value* in **both** *the second* **and** *third columns*, and put these results in a file called `data/negative_users.csv`. Searching through files can be done using _[regular expressions](http://www.robelle.com/smugbook/regexpr.html#expression)_ with a tool called `grep` (Global Regular Expression Printer). \n",
    "\n",
    "And do you remember that we can send the output of a command to the screen or into another command?  You can also direct output of a command (or a string of commands) into a file using the \"redirection\" operator `>`.  (NB: the pipe is also a redirection operator.  Another redirection operator is `>>`, which concatenates the output to the end of the file, rather than overwriting it.)"
   ]
  },
  {
   "cell_type": "code",
   "execution_count": null,
   "metadata": {},
   "outputs": [],
   "source": [
    "!grep '.*,-.*,-.*' data/users.csv > data/negative_users.csv"
   ]
  },
  {
   "cell_type": "markdown",
   "metadata": {},
   "source": [
    "(You'll have to look into the regular expression link to figure that one out.)"
   ]
  },
  {
   "cell_type": "code",
   "execution_count": null,
   "metadata": {},
   "outputs": [],
   "source": [
    "!ls data"
   ]
  },
  {
   "cell_type": "markdown",
   "metadata": {},
   "source": [
    "Check the file `negative_users.csv` whether we grep records with a negative value correctly or not."
   ]
  },
  {
   "cell_type": "code",
   "execution_count": null,
   "metadata": {},
   "outputs": [],
   "source": [
    "!head -n 20 data/negative_users.csv"
   ]
  },
  {
   "cell_type": "markdown",
   "metadata": {},
   "source": [
    "Delete `data/negative_users.csv` to repeat practicing this lab with a clean notebook."
   ]
  },
  {
   "cell_type": "code",
   "execution_count": null,
   "metadata": {},
   "outputs": [],
   "source": [
    "!rm data/negative_users.csv\n",
    "!ls data"
   ]
  },
  {
   "cell_type": "code",
   "execution_count": null,
   "metadata": {},
   "outputs": [],
   "source": []
  }
 ],
 "metadata": {
  "kernelspec": {
   "display_name": "Python 3",
   "language": "python",
   "name": "python3"
  },
  "language_info": {
   "codemirror_mode": {
    "name": "ipython",
    "version": 3
   },
   "file_extension": ".py",
   "mimetype": "text/x-python",
   "name": "python",
   "nbconvert_exporter": "python",
   "pygments_lexer": "ipython3",
   "version": "3.7.3"
  }
 },
 "nbformat": 4,
 "nbformat_minor": 1
}
