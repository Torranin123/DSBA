{
 "cells": [
  {
   "cell_type": "markdown",
   "metadata": {
    "colab_type": "text",
    "id": "PjaTvvdzar5r"
   },
   "source": [
    "# Python Basics (Lab Task 00)\n",
    "\n",
    "\n",
    "Term 1 2020 - Instructor: Teerapong Leelanupab\n",
    "\n",
    "Teaching Assistant: \n",
    "1. Tiwipab Meephruek (Mil)\n",
    "2. Jiratkul Wangsiripaisarn (Brooklyn)\n",
    "3. Hataichanok Sakkara (Pond)\n",
    "\n",
    "***"
   ]
  },
  {
   "cell_type": "markdown",
   "metadata": {
    "colab_type": "text",
    "id": "T8E5LnnpbxHW"
   },
   "source": [
    "Hello, World!\n",
    "Variables and Types\n",
    "Lists\n",
    "Basic Operators\n",
    "String Formatting\n",
    "Basic String Operations\n",
    "Conditions\n",
    "Loops\n",
    "Functions\n",
    "Classes and Objects\n",
    "Dictionaries\n",
    "Modules and Packages\n"
   ]
  },
  {
   "cell_type": "code",
   "execution_count": null,
   "metadata": {
    "colab": {
     "base_uri": "https://localhost:8080/",
     "height": 35
    },
    "colab_type": "code",
    "id": "paV580Atb0d_",
    "outputId": "4814ceba-fc82-479f-83b9-520740354a37"
   },
   "outputs": [],
   "source": [
    "x = 'Hello, '\n",
    "y = 'World!'\n",
    "z = x + y\n",
    "print(z)"
   ]
  },
  {
   "cell_type": "code",
   "execution_count": null,
   "metadata": {
    "colab": {},
    "colab_type": "code",
    "id": "05htiHdym3xv"
   },
   "outputs": [],
   "source": []
  },
  {
   "cell_type": "markdown",
   "metadata": {
    "colab_type": "text",
    "id": "YONe0Z-Fwl5l"
   },
   "source": [
    "**Math operators**"
   ]
  },
  {
   "cell_type": "code",
   "execution_count": null,
   "metadata": {
    "colab": {
     "base_uri": "https://localhost:8080/",
     "height": 107
    },
    "colab_type": "code",
    "id": "uLGsAXl6wpXh",
    "outputId": "e8304563-1d7f-40ad-e35f-9b46cb5b1a05"
   },
   "outputs": [],
   "source": [
    "x=2\n",
    "y=4\n",
    "z=64\n",
    "print(x+y)\n",
    "print(x*y)\n",
    "print(x-y)\n",
    "print(x**2)\n",
    "print(z**(1/2))"
   ]
  },
  {
   "cell_type": "markdown",
   "metadata": {
    "colab_type": "text",
    "id": "p2ulZScbxKHm"
   },
   "source": [
    "**String format**"
   ]
  },
  {
   "cell_type": "code",
   "execution_count": null,
   "metadata": {
    "colab": {
     "base_uri": "https://localhost:8080/",
     "height": 85
    },
    "colab_type": "code",
    "id": "9NYb0vOuxOiZ",
    "outputId": "13e298b0-9ac8-4723-a884-e1002f2809e0"
   },
   "outputs": [],
   "source": [
    "a = 'hello '\n",
    "b = 'world'\n",
    "print(a+b)\n",
    "print(a[0:3])\n",
    "c = '10'\n",
    "print(a+c)\n",
    "d = 10\n",
    "print(a+str(d))"
   ]
  },
  {
   "cell_type": "code",
   "execution_count": null,
   "metadata": {
    "colab": {},
    "colab_type": "code",
    "id": "I6BIfxe4d1wG"
   },
   "outputs": [],
   "source": [
    "def hellofriend():\n",
    "  print('Please insert your name.')\n",
    "  namefriend = input()\n",
    "  output = 'hello '+namefriend + '!'\n",
    "  return output"
   ]
  },
  {
   "cell_type": "code",
   "execution_count": null,
   "metadata": {
    "colab": {
     "base_uri": "https://localhost:8080/",
     "height": 68
    },
    "colab_type": "code",
    "id": "YwqwfXukfltJ",
    "outputId": "24483eb2-a386-4727-e949-499d19764204"
   },
   "outputs": [],
   "source": [
    "hellofriend()"
   ]
  },
  {
   "cell_type": "code",
   "execution_count": null,
   "metadata": {
    "colab": {
     "base_uri": "https://localhost:8080/",
     "height": 34
    },
    "colab_type": "code",
    "id": "Zvo-u74mgSok",
    "outputId": "115927d8-7c79-4f90-f677-44125c29248b"
   },
   "outputs": [],
   "source": [
    "x = ['hello',hellofriend,3,4,5,6]\n",
    "x[5]"
   ]
  },
  {
   "cell_type": "markdown",
   "metadata": {
    "colab_type": "text",
    "id": "Vc7BiJyKk5Gd"
   },
   "source": [
    "**LIST**"
   ]
  },
  {
   "cell_type": "code",
   "execution_count": null,
   "metadata": {
    "colab": {
     "base_uri": "https://localhost:8080/",
     "height": 68
    },
    "colab_type": "code",
    "id": "3dVMsm14iyiJ",
    "outputId": "0c0065b3-c9c8-4d82-b13b-0659616e0356"
   },
   "outputs": [],
   "source": [
    "x = 'hello world!'\n",
    "y = [1,2,3,4,5,6,7,8]\n",
    "print(y[0:5])\n",
    "print(len(y))\n",
    "print(sum(y))"
   ]
  },
  {
   "cell_type": "markdown",
   "metadata": {
    "colab_type": "text",
    "id": "3qhZeGeykTTh"
   },
   "source": [
    "**Expressions**"
   ]
  },
  {
   "cell_type": "code",
   "execution_count": null,
   "metadata": {
    "colab": {
     "base_uri": "https://localhost:8080/",
     "height": 119
    },
    "colab_type": "code",
    "id": "giEzzFDtjs67",
    "outputId": "f141c941-2763-4b19-b0fd-a363f262e1f5"
   },
   "outputs": [],
   "source": [
    "x = 5\n",
    "y = 5\n",
    "print(x == y)\n",
    "print(x != y)\n",
    "print(x < y)\n",
    "print(x <=y)\n",
    "print(x > y)\n",
    "print(x >= y)"
   ]
  },
  {
   "cell_type": "code",
   "execution_count": null,
   "metadata": {
    "colab": {
     "base_uri": "https://localhost:8080/",
     "height": 102
    },
    "colab_type": "code",
    "id": "3NhPbHK4kpFt",
    "outputId": "a0d39060-a65c-43f6-c063-d06eaacc72aa"
   },
   "outputs": [],
   "source": [
    "x = [1,2,3,4,5]\n",
    "print(1 in x)\n",
    "print(len(x)<=10)\n",
    "print(len(x)>=10)\n",
    "print(sum(x)<=100)\n",
    "print(sum(x)>=100)"
   ]
  },
  {
   "cell_type": "code",
   "execution_count": null,
   "metadata": {
    "colab": {
     "base_uri": "https://localhost:8080/",
     "height": 34
    },
    "colab_type": "code",
    "id": "aOfV-5oJmTjV",
    "outputId": "d652bb05-909c-46cd-c218-b5d3d8e84651"
   },
   "outputs": [],
   "source": [
    "x = 'taoshinjuku'\n",
    "y = 'tao'\n",
    "x[0:3] == 'tao'"
   ]
  },
  {
   "cell_type": "markdown",
   "metadata": {
    "colab_type": "text",
    "id": "30gm5cS2lxI5"
   },
   "source": [
    "**Condition**"
   ]
  },
  {
   "cell_type": "code",
   "execution_count": null,
   "metadata": {
    "colab": {
     "base_uri": "https://localhost:8080/",
     "height": 34
    },
    "colab_type": "code",
    "id": "NVeBA9qyl0Fe",
    "outputId": "96587456-afd3-40ab-fc66-6b0f188e8e2c"
   },
   "outputs": [],
   "source": [
    "x = 3\n",
    "y = 2\n",
    "if x < y:\n",
    "  print('hello')\n",
    "else:\n",
    "  print('good bye')"
   ]
  },
  {
   "cell_type": "code",
   "execution_count": null,
   "metadata": {
    "colab": {},
    "colab_type": "code",
    "id": "mlKQc7hCmL7r"
   },
   "outputs": [],
   "source": []
  },
  {
   "cell_type": "code",
   "execution_count": null,
   "metadata": {
    "colab": {
     "base_uri": "https://localhost:8080/",
     "height": 459
    },
    "colab_type": "code",
    "id": "EIosR5m6mx_K",
    "outputId": "0459117f-02db-40d0-da65-601155fe507c"
   },
   "outputs": [],
   "source": [
    "guessmynumber()"
   ]
  },
  {
   "cell_type": "markdown",
   "metadata": {
    "colab_type": "text",
    "id": "R9x1MSAdr89h"
   },
   "source": [
    "**while LOOP**"
   ]
  },
  {
   "cell_type": "code",
   "execution_count": null,
   "metadata": {
    "colab": {
     "base_uri": "https://localhost:8080/",
     "height": 34
    },
    "colab_type": "code",
    "id": "ZH4T9XUAr7vV",
    "outputId": "53365dab-e00e-4774-f908-7a3fd08477f3"
   },
   "outputs": [],
   "source": [
    "i = 0\n",
    "while i < 10:\n",
    "  print(i)\n",
    "  i = i + 10\n"
   ]
  },
  {
   "cell_type": "code",
   "execution_count": null,
   "metadata": {
    "colab": {
     "base_uri": "https://localhost:8080/",
     "height": 51
    },
    "colab_type": "code",
    "id": "SPqJNaelqAHH",
    "outputId": "4314c35c-3c0f-4a7b-89cd-4d1bf01fedce"
   },
   "outputs": [],
   "source": [
    "a='10'\n",
    "print(type(a))\n",
    "a = int(a)\n",
    "print(type(a))"
   ]
  },
  {
   "cell_type": "markdown",
   "metadata": {
    "colab_type": "text",
    "id": "Kuo525g6u6QQ"
   },
   "source": [
    "**for LOOP**"
   ]
  },
  {
   "cell_type": "code",
   "execution_count": null,
   "metadata": {
    "colab": {
     "base_uri": "https://localhost:8080/",
     "height": 187
    },
    "colab_type": "code",
    "id": "pDHiEg8gu9tr",
    "outputId": "b65bca9e-a99d-4109-9020-db14bedf00a9"
   },
   "outputs": [],
   "source": [
    "a = [1,2,3,4,5,6,7,8,9,10]\n",
    "for e in a:\n",
    "  print('hello world!')"
   ]
  },
  {
   "cell_type": "code",
   "execution_count": null,
   "metadata": {
    "colab": {
     "base_uri": "https://localhost:8080/",
     "height": 187
    },
    "colab_type": "code",
    "id": "xH12mc0dvbDo",
    "outputId": "abc14b8a-170c-4cb0-ba7f-22b6e1ccc5ca"
   },
   "outputs": [],
   "source": [
    "for i in range(10):\n",
    "  print('hello')"
   ]
  },
  {
   "cell_type": "markdown",
   "metadata": {
    "colab_type": "text",
    "id": "nOOhqWe2xrWR"
   },
   "source": [
    "**Function**"
   ]
  },
  {
   "cell_type": "code",
   "execution_count": null,
   "metadata": {
    "colab": {},
    "colab_type": "code",
    "id": "qfyLa1Wfxs3K"
   },
   "outputs": [],
   "source": [
    "def guessmynumber():\n",
    "  mynum = 10\n",
    "  output = ''\n",
    "  while output != 'correct!':\n",
    "    print('Please insert your guess.')\n",
    "    try:\n",
    "      numguess = int(input())\n",
    "    except:\n",
    "      return 'error'\n",
    "    if numguess == mynum:\n",
    "      output = 'correct!'\n",
    "    else:\n",
    "      if numguess < mynum:\n",
    "        output = 'Your guess is smaller.'\n",
    "      else:\n",
    "        output = 'Your guess is larger.'\n",
    "    print(output)\n",
    "    print('\\n')\n",
    "  return output"
   ]
  },
  {
   "cell_type": "code",
   "execution_count": null,
   "metadata": {
    "colab": {
     "base_uri": "https://localhost:8080/",
     "height": 119
    },
    "colab_type": "code",
    "id": "WAWlqfKlxuOE",
    "outputId": "f0982d7e-8cc1-4ee0-f037-94151d1bb66f"
   },
   "outputs": [],
   "source": [
    "guessmynumber()"
   ]
  },
  {
   "cell_type": "code",
   "execution_count": null,
   "metadata": {
    "colab": {},
    "colab_type": "code",
    "id": "WZtNox2T1CM4"
   },
   "outputs": [],
   "source": []
  },
  {
   "cell_type": "markdown",
   "metadata": {
    "colab_type": "text",
    "id": "amsEGczd1LQR"
   },
   "source": [
    "## Exercise"
   ]
  },
  {
   "cell_type": "markdown",
   "metadata": {
    "colab_type": "text",
    "id": "sPVu5PRC127-"
   },
   "source": [
    "1. เขียนฟังก์ชันรับตัวแปร 2 ตัว แล้ว return ผลรวมของตัวแปรทั้งสองนั้น\n"
   ]
  },
  {
   "cell_type": "code",
   "execution_count": 1,
   "metadata": {
    "colab": {
     "base_uri": "https://localhost:8080/",
     "height": 102
    },
    "colab_type": "code",
    "id": "2hCxjodo4piG",
    "outputId": "f147fc31-8b69-4ea2-cc0a-3c099747f922",
    "scrolled": true
   },
   "outputs": [
    {
     "name": "stdout",
     "output_type": "stream",
     "text": [
      "1\n",
      "2\n",
      "3\n"
     ]
    }
   ],
   "source": [
    "def cal():\n",
    "    a = int(input())\n",
    "    b = int(input())\n",
    "    print(a+b)\n",
    "cal()"
   ]
  },
  {
   "cell_type": "markdown",
   "metadata": {
    "colab_type": "text",
    "id": "xYMu7Tn01uEK"
   },
   "source": [
    "2. เขียนฟังก์ชันรับตัวแปร 2 ตัว แล้ว return ผลลบของตัวแปรทั้งสองนั้น"
   ]
  },
  {
   "cell_type": "code",
   "execution_count": 2,
   "metadata": {
    "colab": {
     "base_uri": "https://localhost:8080/",
     "height": 102
    },
    "colab_type": "code",
    "id": "Zqcn3j1t4qE5",
    "outputId": "6b0e9ceb-0132-4bf4-d5fb-8ed9407489c4"
   },
   "outputs": [
    {
     "name": "stdout",
     "output_type": "stream",
     "text": [
      "2\n",
      "1\n",
      "1\n"
     ]
    }
   ],
   "source": [
    "def cal():\n",
    "    a = int(input())\n",
    "    b = int(input())\n",
    "    print(a-b)\n",
    "cal()"
   ]
  },
  {
   "cell_type": "code",
   "execution_count": null,
   "metadata": {
    "colab_type": "text",
    "id": "B3ikU6XJ2cUU"
   },
   "outputs": [],
   "source": [
    "3. เขียนฟังก์ชันรับตัวแปรเป็น string แล้ว return ความยาวของ string\n"
   ]
  },
  {
   "cell_type": "code",
   "execution_count": 3,
   "metadata": {
    "colab": {
     "base_uri": "https://localhost:8080/",
     "height": 68
    },
    "colab_type": "code",
    "id": "shoob8XU4qrB",
    "outputId": "2ac65fe6-d8ae-49a6-a1d2-686659e549c8"
   },
   "outputs": [
    {
     "name": "stdout",
     "output_type": "stream",
     "text": [
      "sadsad\n",
      "6\n"
     ]
    }
   ],
   "source": [
    "def callen():\n",
    "    b = input()\n",
    "    print(len(b))\n",
    "callen()"
   ]
  },
  {
   "cell_type": "markdown",
   "metadata": {
    "colab_type": "text",
    "id": "Uvj4fbY-2eTU"
   },
   "source": [
    "4. เขียนฟังก์ชั่นรับตัวแปรสองตัว ตัวแรกเป็น string ตัวที่สองเป็น ตัวเลข n แล้ว print ตัวแปรแรก เป็นจำนวน n ครั้ง"
   ]
  },
  {
   "cell_type": "code",
   "execution_count": 4,
   "metadata": {
    "colab": {
     "base_uri": "https://localhost:8080/",
     "height": 136
    },
    "colab_type": "code",
    "id": "3MwJP1kd4rUo",
    "outputId": "ab4d206b-2994-429c-f215-3aff65b37c8c"
   },
   "outputs": [
    {
     "name": "stdout",
     "output_type": "stream",
     "text": [
      "sad\n",
      "6\n",
      "sadsadsadsadsadsad\n"
     ]
    }
   ],
   "source": [
    "def myloop():\n",
    "    word = input()\n",
    "    num = int(input())\n",
    "    print(word*num)\n",
    "myloop()"
   ]
  },
  {
   "cell_type": "markdown",
   "metadata": {
    "colab_type": "text",
    "id": "gzyxb6X73A2r"
   },
   "source": [
    "5. เขียนโปรแกรมทายชื่ออาหารที่ชอบ โดยให้แสดงรายการอาหารที่ให้คนทายเห็น ให้ตั้งค่ารายการอาหารที่เราชอบในโปรแกรม ถ้าคนทายทายถูกให้บอกว่า \"ถูกต้องนะคร๊าป\" ถ้าทายผิดให้บอกว่า \"ผิดครับ\"\n"
   ]
  },
  {
   "cell_type": "code",
   "execution_count": 5,
   "metadata": {
    "colab": {
     "base_uri": "https://localhost:8080/",
     "height": 85
    },
    "colab_type": "code",
    "id": "HH0uwOQn3OY6",
    "outputId": "6bb89df9-8a60-44cf-884f-974fffee6689"
   },
   "outputs": [
    {
     "name": "stdout",
     "output_type": "stream",
     "text": [
      "['กระเพรา', 'หมูกรอบ', 'ไข่ดาว', 'ไข่เจียว']\n",
      "หมูกรอบ\n",
      "ถูกต้องนะคร๊าป\n"
     ]
    }
   ],
   "source": [
    "def guessfood():\n",
    "    a = ['กระเพรา','หมูกรอบ','ไข่ดาว','ไข่เจียว']\n",
    "    print(a)\n",
    "    fav = 'หมูกรอบ'\n",
    "    guess = input()\n",
    "    if guess == fav:\n",
    "        print('ถูกต้องนะคร๊าป')\n",
    "    else:\n",
    "        print('ผิดครับ')\n",
    "        print(guess)\n",
    "guessfood()"
   ]
  },
  {
   "cell_type": "markdown",
   "metadata": {
    "colab_type": "text",
    "id": "gi21DoO_3Qc_"
   },
   "source": [
    "6. เขียนโปรแกรมเพื่อหาตำแหน่งของเลข 81 ใน numbers = [\n",
    "    386, 462, 47, 418, 907, 344, 236, 375, 823, 566, 597, 978, 328, 615, 953, 345, \n",
    "    399, 162, 758, 219, 918, 237, 412, 566, 826, 248, 866, 950, 626, 949, 687, 217, \n",
    "    815, 67, 104, 58, 512, 24, 892, 894, 767, 553, 81, 379, 843, 831, 445, 742, 717, \n",
    "    958,743, 527\n",
    "    ]"
   ]
  },
  {
   "cell_type": "code",
   "execution_count": 6,
   "metadata": {
    "colab": {},
    "colab_type": "code",
    "id": "NYWywGH43sRn"
   },
   "outputs": [],
   "source": [
    "def find_index():\n",
    "    numbers = [ 386, 462, 47, 418, 907, 344, 236, 375, 823, 566, 597, 978, 328, 615, 953, \\\n",
    "            345, 399, 162, 758, 219, 918, 237, 412, 566, 826, 248, 866, 950, 626, 949, \\\n",
    "            687, 217, 815, 67, 104, 58, 512, 24, 892, 894, 767, 553, 81, 379, 843, 831, \\\n",
    "            445, 742, 717, 958,743, 527 ]\n",
    "    count = 0\n",
    "    for i in numbers:\n",
    "        if i != 81:\n",
    "            count += 1\n",
    "        else:\n",
    "            print(count)"
   ]
  },
  {
   "cell_type": "code",
   "execution_count": 7,
   "metadata": {
    "colab": {
     "base_uri": "https://localhost:8080/",
     "height": 266
    },
    "colab_type": "code",
    "id": "s_2nQdN9-p5k",
    "outputId": "31a47011-445b-4b30-b518-cbddb24bb2f1"
   },
   "outputs": [
    {
     "name": "stdout",
     "output_type": "stream",
     "text": [
      "42\n"
     ]
    }
   ],
   "source": [
    "find_index()\n"
   ]
  },
  {
   "cell_type": "code",
   "execution_count": null,
   "metadata": {},
   "outputs": [],
   "source": []
  }
 ],
 "metadata": {
  "colab": {
   "collapsed_sections": [],
   "name": "pythonfordatascience_1_1.ipynb",
   "provenance": []
  },
  "kernelspec": {
   "display_name": "Python 3",
   "language": "python",
   "name": "python3"
  },
  "language_info": {
   "codemirror_mode": {
    "name": "ipython",
    "version": 3
   },
   "file_extension": ".py",
   "mimetype": "text/x-python",
   "name": "python",
   "nbconvert_exporter": "python",
   "pygments_lexer": "ipython3",
   "version": "3.7.6"
  }
 },
 "nbformat": 4,
 "nbformat_minor": 1
}
